{
 "cells": [
  {
   "cell_type": "markdown",
   "metadata": {},
   "source": [
    "# IS362 - Project 3"
   ]
  },
  {
   "cell_type": "markdown",
   "metadata": {},
   "source": [
    "Your assignment involves combining information from a number of SQL tables,\n",
    "then displaying the information in a pandas DataFrame.\n",
    "For your relational database management system, you may use any RDBMS,\n",
    "including MySQL, PostgreSQL, sqlite, or any of the other RDMBSs supported by\n",
    "the database in Step 1 below.\n",
    "1. For your database, you should download and install the appropriate version\n",
    "of the Chinook database for your RDBMS, which is available here, under the\n",
    "downloads tab: https://chinookdatabase.codeplex.com/\n",
    "2. Your task is to create a pandas DataFrame that displays Customers’ Last\n",
    "Name and First Name, and each customer’s purchased Track names and\n",
    "Album Titles. The information should be sorted by Customer LastName\n",
    "then Customer FirstName. The first five rows of your results should look\n",
    "like this:"
   ]
  },
  {
   "cell_type": "code",
   "execution_count": 6,
   "metadata": {
    "collapsed": false
   },
   "outputs": [
    {
     "data": {
      "text/html": [
       "<img src=\"C:/Users/Jessica/Desktop/John's School/IS362/IS362_Project3/solution.PNG\"/>"
      ],
      "text/plain": [
       "<IPython.core.display.Image object>"
      ]
     },
     "execution_count": 6,
     "metadata": {},
     "output_type": "execute_result"
    }
   ],
   "source": [
    "from IPython.display import Image\n",
    "from IPython.core.display import HTML \n",
    "Image(url=\"C:/Users/Jessica/Desktop/John's School/IS362/IS362_Project3/solution.PNG\")"
   ]
  },
  {
   "cell_type": "markdown",
   "metadata": {},
   "source": [
    "As always, the first step is to import any modules necessary for completing this assignment:"
   ]
  },
  {
   "cell_type": "code",
   "execution_count": 19,
   "metadata": {
    "collapsed": false
   },
   "outputs": [],
   "source": [
    "import pandas as pd\n",
    "import numpy as np\n",
    "import sqlite3"
   ]
  },
  {
   "cell_type": "markdown",
   "metadata": {},
   "source": [
    "Next, I need to connect to the database. I initially chose to use MySQL because it was already installed and running on my computer, but for some reason it threw an error when I tried to connect to the database that way, so I went for Sqlite instead. (I had to adjust my imports accordingly)"
   ]
  },
  {
   "cell_type": "code",
   "execution_count": 23,
   "metadata": {
    "collapsed": false
   },
   "outputs": [],
   "source": [
    "con = sqlite3.connect(\"C:/Users/Jessica/Downloads/ChinookDatabase1.4_CompleteVersion/Chinook_Sqlite.sqlite\")"
   ]
  },
  {
   "cell_type": "markdown",
   "metadata": {},
   "source": [
    "Now, I have to write a SQL query that will return the data we need. We're looking to create a pandas DataFrame with customer Last Names, First Names, Track Names, and Album Titles. The schema we're working with looks like this:"
   ]
  },
  {
   "cell_type": "code",
   "execution_count": 10,
   "metadata": {
    "collapsed": false
   },
   "outputs": [
    {
     "data": {
      "text/html": [
       "<img src=\"http://lh4.ggpht.com/_oKo6zFhdD98/SWFPtyfHJFI/AAAAAAAAAMc/GdrlzeBNsZM/s800/ChinookDatabaseSchema1.1.png\"/>"
      ],
      "text/plain": [
       "<IPython.core.display.Image object>"
      ]
     },
     "execution_count": 10,
     "metadata": {},
     "output_type": "execute_result"
    }
   ],
   "source": [
    "Image(url='http://lh4.ggpht.com/_oKo6zFhdD98/SWFPtyfHJFI/AAAAAAAAAMc/GdrlzeBNsZM/s800/ChinookDatabaseSchema1.1.png')"
   ]
  },
  {
   "cell_type": "code",
   "execution_count": 21,
   "metadata": {
    "collapsed": true
   },
   "outputs": [],
   "source": [
    "sql = '''SELECT Customer.LastName, Customer.FirstName, Track.Name, Album.Title\n",
    "         FROM Customer\n",
    "         LEFT JOIN Invoice\n",
    "         ON Customer.CustomerId = Invoice.CustomerId\n",
    "         LEFT JOIN InvoiceLine\n",
    "         ON Invoice.InvoiceId = InvoiceLine.InvoiceId\n",
    "         LEFT JOIN Track\n",
    "         ON InvoiceLine.TrackId = Track.TrackId\n",
    "         LEFT JOIN Album\n",
    "         ON Track.AlbumId = Album.AlbumId\n",
    "         ORDER BY Customer.LastName, Customer.FirstName'''"
   ]
  },
  {
   "cell_type": "markdown",
   "metadata": {},
   "source": [
    "Now that we've connected to the database, and written the SQL query that will get us the data we need, let's put it all in a pandas DataFrame!"
   ]
  },
  {
   "cell_type": "code",
   "execution_count": 24,
   "metadata": {
    "collapsed": false
   },
   "outputs": [
    {
     "data": {
      "text/html": [
       "<div>\n",
       "<table border=\"1\" class=\"dataframe\">\n",
       "  <thead>\n",
       "    <tr style=\"text-align: right;\">\n",
       "      <th></th>\n",
       "      <th>LastName</th>\n",
       "      <th>FirstName</th>\n",
       "      <th>Name</th>\n",
       "      <th>Title</th>\n",
       "    </tr>\n",
       "  </thead>\n",
       "  <tbody>\n",
       "    <tr>\n",
       "      <th>0</th>\n",
       "      <td>Almeida</td>\n",
       "      <td>Roberto</td>\n",
       "      <td>Right Next Door to Hell</td>\n",
       "      <td>Use Your Illusion I</td>\n",
       "    </tr>\n",
       "    <tr>\n",
       "      <th>1</th>\n",
       "      <td>Almeida</td>\n",
       "      <td>Roberto</td>\n",
       "      <td>In The Evening</td>\n",
       "      <td>In Through The Out Door</td>\n",
       "    </tr>\n",
       "    <tr>\n",
       "      <th>2</th>\n",
       "      <td>Almeida</td>\n",
       "      <td>Roberto</td>\n",
       "      <td>Fool In The Rain</td>\n",
       "      <td>In Through The Out Door</td>\n",
       "    </tr>\n",
       "    <tr>\n",
       "      <th>3</th>\n",
       "      <td>Almeida</td>\n",
       "      <td>Roberto</td>\n",
       "      <td>Saudade Dos Aviões Da Panair (Conversando No Bar)</td>\n",
       "      <td>Minas</td>\n",
       "    </tr>\n",
       "    <tr>\n",
       "      <th>4</th>\n",
       "      <td>Almeida</td>\n",
       "      <td>Roberto</td>\n",
       "      <td>Caso Você Queira Saber</td>\n",
       "      <td>Minas</td>\n",
       "    </tr>\n",
       "  </tbody>\n",
       "</table>\n",
       "</div>"
      ],
      "text/plain": [
       "  LastName FirstName                                               Name  \\\n",
       "0  Almeida   Roberto                            Right Next Door to Hell   \n",
       "1  Almeida   Roberto                                     In The Evening   \n",
       "2  Almeida   Roberto                                   Fool In The Rain   \n",
       "3  Almeida   Roberto  Saudade Dos Aviões Da Panair (Conversando No Bar)   \n",
       "4  Almeida   Roberto                             Caso Você Queira Saber   \n",
       "\n",
       "                     Title  \n",
       "0      Use Your Illusion I  \n",
       "1  In Through The Out Door  \n",
       "2  In Through The Out Door  \n",
       "3                    Minas  \n",
       "4                    Minas  "
      ]
     },
     "execution_count": 24,
     "metadata": {},
     "output_type": "execute_result"
    }
   ],
   "source": [
    "pd.read_sql_query(sql , con=con).head()"
   ]
  }
 ],
 "metadata": {
  "kernelspec": {
   "display_name": "Python 3",
   "language": "python",
   "name": "python3"
  },
  "language_info": {
   "codemirror_mode": {
    "name": "ipython",
    "version": 3
   },
   "file_extension": ".py",
   "mimetype": "text/x-python",
   "name": "python",
   "nbconvert_exporter": "python",
   "pygments_lexer": "ipython3",
   "version": "3.6.0"
  }
 },
 "nbformat": 4,
 "nbformat_minor": 2
}
